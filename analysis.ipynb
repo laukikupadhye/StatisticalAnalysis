{
  "nbformat": 4,
  "nbformat_minor": 0,
  "metadata": {
    "colab": {
      "name": "Assessment_Laukik.ipynb",
      "provenance": [],
      "collapsed_sections": [],
      "toc_visible": true,
      "authorship_tag": "ABX9TyOstG6Q0zbez9mY/d8nYbKx",
      "include_colab_link": true
    },
    "kernelspec": {
      "name": "python3",
      "display_name": "Python 3"
    }
  },
  "cells": [
    {
      "cell_type": "markdown",
      "metadata": {
        "id": "view-in-github",
        "colab_type": "text"
      },
      "source": [
        "<a href=\"https://colab.research.google.com/github/laukikupadhye/StatisticalAnalysis/blob/main/analysis.ipynb\" target=\"_parent\"><img src=\"https://colab.research.google.com/assets/colab-badge.svg\" alt=\"Open In Colab\"/></a>"
      ]
    },
    {
      "cell_type": "markdown",
      "metadata": {
        "id": "K6Y3jTIiDi8l"
      },
      "source": [
        "# Statistical Analysis on customer order data"
      ]
    },
    {
      "cell_type": "code",
      "metadata": {
        "id": "hBrgn7fXagW7"
      },
      "source": [
        "import pandas as pd\n",
        "import matplotlib.pyplot as plt \n",
        "import numpy as np\n",
        "from scipy import stats as st\n",
        "from sklearn.metrics import confusion_matrix as cm\n",
        "from sklearn.metrics import accuracy_score as accs\n",
        "from sklearn.metrics import precision_score as prec\n"
      ],
      "execution_count": null,
      "outputs": []
    },
    {
      "cell_type": "code",
      "metadata": {
        "id": "syj4Xn9sdCwx",
        "colab": {
          "base_uri": "https://localhost:8080/",
          "height": 194
        },
        "outputId": "9e38e3c9-0658-4f12-b9d4-f43e5c524a50"
      },
      "source": [
        "data =pd.read_csv(\"/content/screening_exercise_orders_v201810.csv\")\n",
        "data.head(5)"
      ],
      "execution_count": null,
      "outputs": [
        {
          "output_type": "execute_result",
          "data": {
            "text/html": [
              "<div>\n",
              "<style scoped>\n",
              "    .dataframe tbody tr th:only-of-type {\n",
              "        vertical-align: middle;\n",
              "    }\n",
              "\n",
              "    .dataframe tbody tr th {\n",
              "        vertical-align: top;\n",
              "    }\n",
              "\n",
              "    .dataframe thead th {\n",
              "        text-align: right;\n",
              "    }\n",
              "</style>\n",
              "<table border=\"1\" class=\"dataframe\">\n",
              "  <thead>\n",
              "    <tr style=\"text-align: right;\">\n",
              "      <th></th>\n",
              "      <th>customer_id</th>\n",
              "      <th>gender</th>\n",
              "      <th>date</th>\n",
              "      <th>value</th>\n",
              "      <th>predicted_gender</th>\n",
              "    </tr>\n",
              "  </thead>\n",
              "  <tbody>\n",
              "    <tr>\n",
              "      <th>0</th>\n",
              "      <td>1000</td>\n",
              "      <td>0</td>\n",
              "      <td>2017-01-01 00:11:31</td>\n",
              "      <td>198.5</td>\n",
              "      <td>1</td>\n",
              "    </tr>\n",
              "    <tr>\n",
              "      <th>1</th>\n",
              "      <td>1001</td>\n",
              "      <td>0</td>\n",
              "      <td>2017-01-01 00:29:56</td>\n",
              "      <td>338.0</td>\n",
              "      <td>1</td>\n",
              "    </tr>\n",
              "    <tr>\n",
              "      <th>2</th>\n",
              "      <td>1002</td>\n",
              "      <td>1</td>\n",
              "      <td>2017-01-01 01:30:31</td>\n",
              "      <td>733.0</td>\n",
              "      <td>1</td>\n",
              "    </tr>\n",
              "    <tr>\n",
              "      <th>3</th>\n",
              "      <td>1003</td>\n",
              "      <td>1</td>\n",
              "      <td>2017-01-01 01:34:22</td>\n",
              "      <td>772.0</td>\n",
              "      <td>1</td>\n",
              "    </tr>\n",
              "    <tr>\n",
              "      <th>4</th>\n",
              "      <td>1004</td>\n",
              "      <td>0</td>\n",
              "      <td>2017-01-01 03:11:54</td>\n",
              "      <td>508.0</td>\n",
              "      <td>1</td>\n",
              "    </tr>\n",
              "  </tbody>\n",
              "</table>\n",
              "</div>"
            ],
            "text/plain": [
              "   customer_id  gender                 date  value  predicted_gender\n",
              "0         1000       0  2017-01-01 00:11:31  198.5                 1\n",
              "1         1001       0  2017-01-01 00:29:56  338.0                 1\n",
              "2         1002       1  2017-01-01 01:30:31  733.0                 1\n",
              "3         1003       1  2017-01-01 01:34:22  772.0                 1\n",
              "4         1004       0  2017-01-01 03:11:54  508.0                 1"
            ]
          },
          "metadata": {
            "tags": []
          },
          "execution_count": 2
        }
      ]
    },
    {
      "cell_type": "code",
      "metadata": {
        "id": "caP5ZaB1dGZU"
      },
      "source": [
        "data['date']=pd.to_datetime(data['date'])"
      ],
      "execution_count": null,
      "outputs": []
    },
    {
      "cell_type": "markdown",
      "metadata": {
        "id": "N_Qi_6yOlC2X"
      },
      "source": [
        "#Which are the most valueable customers (finding top 10 customers)?"
      ]
    },
    {
      "cell_type": "code",
      "metadata": {
        "id": "Y1P5n-Oce8yD",
        "colab": {
          "base_uri": "https://localhost:8080/",
          "height": 340
        },
        "outputId": "1b631217-f43e-4ddd-8996-4ee2ad98a7a3"
      },
      "source": [
        "#data.info()\n",
        "dataA=data.groupby(['customer_id','gender'],as_index=False).agg(most_recent_order_date=('date','max'),order_count=('date','count')).copy()\n",
        "dataA.sort_values('customer_id').head(10)"
      ],
      "execution_count": null,
      "outputs": [
        {
          "output_type": "execute_result",
          "data": {
            "text/html": [
              "<div>\n",
              "<style scoped>\n",
              "    .dataframe tbody tr th:only-of-type {\n",
              "        vertical-align: middle;\n",
              "    }\n",
              "\n",
              "    .dataframe tbody tr th {\n",
              "        vertical-align: top;\n",
              "    }\n",
              "\n",
              "    .dataframe thead th {\n",
              "        text-align: right;\n",
              "    }\n",
              "</style>\n",
              "<table border=\"1\" class=\"dataframe\">\n",
              "  <thead>\n",
              "    <tr style=\"text-align: right;\">\n",
              "      <th></th>\n",
              "      <th>customer_id</th>\n",
              "      <th>gender</th>\n",
              "      <th>most_recent_order_date</th>\n",
              "      <th>order_count</th>\n",
              "    </tr>\n",
              "  </thead>\n",
              "  <tbody>\n",
              "    <tr>\n",
              "      <th>0</th>\n",
              "      <td>1000</td>\n",
              "      <td>0</td>\n",
              "      <td>2017-01-01 00:11:31</td>\n",
              "      <td>1</td>\n",
              "    </tr>\n",
              "    <tr>\n",
              "      <th>1</th>\n",
              "      <td>1001</td>\n",
              "      <td>0</td>\n",
              "      <td>2017-01-01 00:29:56</td>\n",
              "      <td>1</td>\n",
              "    </tr>\n",
              "    <tr>\n",
              "      <th>2</th>\n",
              "      <td>1002</td>\n",
              "      <td>1</td>\n",
              "      <td>2017-02-19 21:35:31</td>\n",
              "      <td>3</td>\n",
              "    </tr>\n",
              "    <tr>\n",
              "      <th>3</th>\n",
              "      <td>1003</td>\n",
              "      <td>1</td>\n",
              "      <td>2017-04-26 02:37:20</td>\n",
              "      <td>4</td>\n",
              "    </tr>\n",
              "    <tr>\n",
              "      <th>4</th>\n",
              "      <td>1004</td>\n",
              "      <td>0</td>\n",
              "      <td>2017-01-01 03:11:54</td>\n",
              "      <td>1</td>\n",
              "    </tr>\n",
              "    <tr>\n",
              "      <th>5</th>\n",
              "      <td>1005</td>\n",
              "      <td>1</td>\n",
              "      <td>2017-12-16 01:39:27</td>\n",
              "      <td>2</td>\n",
              "    </tr>\n",
              "    <tr>\n",
              "      <th>6</th>\n",
              "      <td>1006</td>\n",
              "      <td>1</td>\n",
              "      <td>2017-05-09 15:27:20</td>\n",
              "      <td>3</td>\n",
              "    </tr>\n",
              "    <tr>\n",
              "      <th>7</th>\n",
              "      <td>1007</td>\n",
              "      <td>0</td>\n",
              "      <td>2017-01-01 15:59:50</td>\n",
              "      <td>1</td>\n",
              "    </tr>\n",
              "    <tr>\n",
              "      <th>8</th>\n",
              "      <td>1008</td>\n",
              "      <td>0</td>\n",
              "      <td>2017-12-17 05:47:48</td>\n",
              "      <td>3</td>\n",
              "    </tr>\n",
              "    <tr>\n",
              "      <th>9</th>\n",
              "      <td>1009</td>\n",
              "      <td>1</td>\n",
              "      <td>2017-01-01 19:27:17</td>\n",
              "      <td>1</td>\n",
              "    </tr>\n",
              "  </tbody>\n",
              "</table>\n",
              "</div>"
            ],
            "text/plain": [
              "   customer_id  gender most_recent_order_date  order_count\n",
              "0         1000       0    2017-01-01 00:11:31            1\n",
              "1         1001       0    2017-01-01 00:29:56            1\n",
              "2         1002       1    2017-02-19 21:35:31            3\n",
              "3         1003       1    2017-04-26 02:37:20            4\n",
              "4         1004       0    2017-01-01 03:11:54            1\n",
              "5         1005       1    2017-12-16 01:39:27            2\n",
              "6         1006       1    2017-05-09 15:27:20            3\n",
              "7         1007       0    2017-01-01 15:59:50            1\n",
              "8         1008       0    2017-12-17 05:47:48            3\n",
              "9         1009       1    2017-01-01 19:27:17            1"
            ]
          },
          "metadata": {
            "tags": []
          },
          "execution_count": 4
        }
      ]
    },
    {
      "cell_type": "markdown",
      "metadata": {
        "id": "1zWwvnl9bKTw"
      },
      "source": [
        "#What is the trend of order by weeks?"
      ]
    },
    {
      "cell_type": "code",
      "metadata": {
        "id": "FWrRY8EXlMiI"
      },
      "source": [
        "dataB=data.copy()\n",
        "dataB['weekNumber']=dataB['date'].dt.isocalendar().week.copy()\n",
        "dataB=dataB.groupby(['weekNumber'],as_index=False).agg(order_count=('customer_id','count')).sort_values('order_count',ascending=False).reset_index().copy()"
      ],
      "execution_count": null,
      "outputs": []
    },
    {
      "cell_type": "code",
      "metadata": {
        "id": "yYePGnwDmZ08",
        "colab": {
          "base_uri": "https://localhost:8080/",
          "height": 644
        },
        "outputId": "18eb5538-f547-4d35-ecbc-6d65527a8fd3"
      },
      "source": [
        "fig , ax= plt.subplots(figsize=(20,10))\n",
        "\n",
        "ax.bar(dataB.index,dataB.order_count,color='steelblue')\n",
        "ax.set_xticks(range(0,52))\n",
        "ax.set_xticklabels([x for x in dataB.weekNumber])\n",
        "plt.title('Count of orders per week',fontsize=16)\n",
        "\n",
        "plt.xlabel('Weeks',fontsize=14)\n",
        "plt.ylabel('Counts',fontsize=14)"
      ],
      "execution_count": null,
      "outputs": [
        {
          "output_type": "execute_result",
          "data": {
            "text/plain": [
              "Text(0, 0.5, 'Counts')"
            ]
          },
          "metadata": {
            "tags": []
          },
          "execution_count": 6
        },
        {
          "output_type": "display_data",
          "data": {
            "image/png": "[encoded data removed]",
            "text/plain": [
              "<Figure size 1440x720 with 1 Axes>"
            ]
          },
          "metadata": {
            "tags": [],
            "needs_background": "light"
          }
        }
      ]
    },
    {
      "cell_type": "markdown",
      "metadata": {
        "id": "kYV1VhanbFtt"
      },
      "source": [
        "#Is there a significant difference between two genders, with respect to their mean order count?\n",
        "## To find the significance level of two means, appling statistical analysis, hypothesis testing to conclude\n",
        "\n",
        "Initial Assumptions:\n",
        "\n",
        "1.   H0 (null hypothesis)=0  - difference is not significant\n",
        "2.   H1 (Alternative hypothesis) != 0   - difference is significant\n",
        "3.   p=0.05  - significance level (alpha value)\n",
        "\n",
        "\n",
        "For this will need to calculate Mean, Standard Deviation \n",
        "\n",
        "\n",
        "\n",
        "\n",
        "\n"
      ]
    },
    {
      "cell_type": "code",
      "metadata": {
        "id": "yOzDEu2AAP65",
        "colab": {
          "base_uri": "https://localhost:8080/",
          "height": 106
        },
        "outputId": "9e9d23de-c1b0-4737-b174-4c2739c9ac70"
      },
      "source": [
        "dataC=data.groupby('gender',as_index=False).agg(mean=('value','mean'),sd=('value','std'),ncount=('date','count')).copy()\n",
        "dataC"
      ],
      "execution_count": null,
      "outputs": [
        {
          "output_type": "execute_result",
          "data": {
            "text/html": [
              "<div>\n",
              "<style scoped>\n",
              "    .dataframe tbody tr th:only-of-type {\n",
              "        vertical-align: middle;\n",
              "    }\n",
              "\n",
              "    .dataframe tbody tr th {\n",
              "        vertical-align: top;\n",
              "    }\n",
              "\n",
              "    .dataframe thead th {\n",
              "        text-align: right;\n",
              "    }\n",
              "</style>\n",
              "<table border=\"1\" class=\"dataframe\">\n",
              "  <thead>\n",
              "    <tr style=\"text-align: right;\">\n",
              "      <th></th>\n",
              "      <th>gender</th>\n",
              "      <th>mean</th>\n",
              "      <th>sd</th>\n",
              "      <th>ncount</th>\n",
              "    </tr>\n",
              "  </thead>\n",
              "  <tbody>\n",
              "    <tr>\n",
              "      <th>0</th>\n",
              "      <td>0</td>\n",
              "      <td>363.890006</td>\n",
              "      <td>396.533215</td>\n",
              "      <td>6759</td>\n",
              "    </tr>\n",
              "    <tr>\n",
              "      <th>1</th>\n",
              "      <td>1</td>\n",
              "      <td>350.708361</td>\n",
              "      <td>377.504737</td>\n",
              "      <td>6712</td>\n",
              "    </tr>\n",
              "  </tbody>\n",
              "</table>\n",
              "</div>"
            ],
            "text/plain": [
              "   gender        mean          sd  ncount\n",
              "0       0  363.890006  396.533215    6759\n",
              "1       1  350.708361  377.504737    6712"
            ]
          },
          "metadata": {
            "tags": []
          },
          "execution_count": 7
        }
      ]
    },
    {
      "cell_type": "code",
      "metadata": {
        "id": "erm_fJDRqv40"
      },
      "source": [
        "#taking out all values in variable to ease of further calculation\n",
        "\n",
        "mean0=dataC[['mean']][(dataC.gender==0)].values[0][0]\n",
        "mean1=dataC[['mean']][(dataC.gender==1)].values[0][0]\n",
        "sd0=dataC[['sd']][(dataC.gender==0)].values[0][0]\n",
        "sd1=dataC[['sd']][(dataC.gender==1)].values[0][0]\n",
        "n0=dataC[['ncount']][(dataC.gender==0)].values[0][0]\n",
        "n1=dataC[['ncount']][(dataC.gender==1)].values[0][0]\n"
      ],
      "execution_count": null,
      "outputs": []
    },
    {
      "cell_type": "code",
      "metadata": {
        "id": "Cmj5PpGv_M_X",
        "colab": {
          "base_uri": "https://localhost:8080/",
          "height": 52
        },
        "outputId": "f61d72c1-ab35-47d9-f8e5-cb3b37c5c2da"
      },
      "source": [
        "mean_diff=mean0-mean1\n",
        "standard_error=np.sqrt(sd0**2/n0 + sd1**2/n1)\n",
        "t_value=mean_diff/standard_error\n",
        "p_value =st.t.sf(np.abs(t_value),(n0-1+n1-1))*2\n",
        "#print('t=',t_value)\n",
        "print('p=',p_value)\n",
        "\n",
        "print('Significant difference' if p_value<0.05 else 'No significant difference')"
      ],
      "execution_count": null,
      "outputs": [
        {
          "output_type": "stream",
          "text": [
            "p= 0.048162926726967335\n",
            "Significant difference\n"
          ],
          "name": "stdout"
        }
      ]
    },
    {
      "cell_type": "markdown",
      "metadata": {
        "id": "ra2brJqIuA3a"
      },
      "source": [
        "Here we clearly see the value of probability is falling under rejection region that is **p_value<0.05**. Hence, we can say that, for alpha value 0.05 there is significant difference between two means. "
      ]
    },
    {
      "cell_type": "markdown",
      "metadata": {
        "id": "4ENhjdxg4XpE"
      },
      "source": [
        "#What is the quality of predictor model which predicted gender on buying pattern?\n",
        "Generating confusion matrix to calculate the accuracy of prediction model\n",
        "\n",
        "Before doing that, I am taking predicted values only for most recent order made by users.\n"
      ]
    },
    {
      "cell_type": "code",
      "metadata": {
        "id": "FrbaGcea4Xdc",
        "colab": {
          "base_uri": "https://localhost:8080/",
          "height": 76
        },
        "outputId": "5cb28646-fc1c-4c07-f52d-9ef9dbb5e8a2"
      },
      "source": [
        "dataD1=data.groupby(['customer_id','gender'],as_index=False).agg(date=('date','max')).copy()\n",
        "dataD=pd.merge(dataD1,data[['date','predicted_gender']],on=['date'])\n",
        "\n",
        "#testing of data join with specific customer_id which has more than one orders (compared manually with excel)\n",
        "dataD[(dataD.customer_id==1015)]"
      ],
      "execution_count": null,
      "outputs": [
        {
          "output_type": "execute_result",
          "data": {
            "text/html": [
              "<div>\n",
              "<style scoped>\n",
              "    .dataframe tbody tr th:only-of-type {\n",
              "        vertical-align: middle;\n",
              "    }\n",
              "\n",
              "    .dataframe tbody tr th {\n",
              "        vertical-align: top;\n",
              "    }\n",
              "\n",
              "    .dataframe thead th {\n",
              "        text-align: right;\n",
              "    }\n",
              "</style>\n",
              "<table border=\"1\" class=\"dataframe\">\n",
              "  <thead>\n",
              "    <tr style=\"text-align: right;\">\n",
              "      <th></th>\n",
              "      <th>customer_id</th>\n",
              "      <th>gender</th>\n",
              "      <th>date</th>\n",
              "      <th>predicted_gender</th>\n",
              "    </tr>\n",
              "  </thead>\n",
              "  <tbody>\n",
              "    <tr>\n",
              "      <th>15</th>\n",
              "      <td>1015</td>\n",
              "      <td>0</td>\n",
              "      <td>2017-09-21 19:58:04</td>\n",
              "      <td>0</td>\n",
              "    </tr>\n",
              "  </tbody>\n",
              "</table>\n",
              "</div>"
            ],
            "text/plain": [
              "    customer_id  gender                date  predicted_gender\n",
              "15         1015       0 2017-09-21 19:58:04                 0"
            ]
          },
          "metadata": {
            "tags": []
          },
          "execution_count": 10
        }
      ]
    },
    {
      "cell_type": "markdown",
      "metadata": {
        "id": "oTQcy1RsAAhC"
      },
      "source": [
        "Join in working fine as of sanity testing"
      ]
    },
    {
      "cell_type": "code",
      "metadata": {
        "id": "FyQIvLim_pdT",
        "colab": {
          "base_uri": "https://localhost:8080/",
          "height": 52
        },
        "outputId": "51a67387-43f7-46cd-fc11-f0898cd4b36d"
      },
      "source": [
        "cm(dataD.gender, dataD.predicted_gender)"
      ],
      "execution_count": null,
      "outputs": [
        {
          "output_type": "execute_result",
          "data": {
            "text/plain": [
              "array([[2191, 2221],\n",
              "       [ 896, 3517]])"
            ]
          },
          "metadata": {
            "tags": []
          },
          "execution_count": 11
        }
      ]
    },
    {
      "cell_type": "code",
      "metadata": {
        "id": "eMfDxJ7OAqzy",
        "colab": {
          "base_uri": "https://localhost:8080/",
          "height": 35
        },
        "outputId": "0c1fdb84-4dfc-49f6-8943-a783adca18e1"
      },
      "source": [
        "#Accuracy of the prediction model\n",
        "print('Accuracy is ',round(accs(dataD.gender, dataD.predicted_gender)*100,2),'%')"
      ],
      "execution_count": null,
      "outputs": [
        {
          "output_type": "stream",
          "text": [
            "Accuracy is  64.68 %\n"
          ],
          "name": "stdout"
        }
      ]
    },
    {
      "cell_type": "markdown",
      "metadata": {
        "id": "cbvhVRf68dLL"
      },
      "source": [
        "With the prebuilt function the accuracy is ~64%, which means at any given time, the chance of getting correct value from prediction model is only 64% \n",
        "\n",
        "This show the reliability of model."
      ]
    },
    {
      "cell_type": "code",
      "metadata": {
        "id": "908wCeXH-aRZ",
        "colab": {
          "base_uri": "https://localhost:8080/",
          "height": 35
        },
        "outputId": "1c78abd9-22d7-491a-dfbb-c0fbb668b090"
      },
      "source": [
        "#Precision \n",
        "print('Precision is ',round(prec(dataD.gender, dataD.predicted_gender)*100,2),'%')"
      ],
      "execution_count": null,
      "outputs": [
        {
          "output_type": "stream",
          "text": [
            "Precision is  61.29 %\n"
          ],
          "name": "stdout"
        }
      ]
    },
    {
      "cell_type": "markdown",
      "metadata": {
        "id": "9lIh9VPM_MvX"
      },
      "source": [
        "With this value we can say, out of all positive prediction, only ~61% are correct. Which is very low number for any prediction model."
      ]
    }
  ]
}